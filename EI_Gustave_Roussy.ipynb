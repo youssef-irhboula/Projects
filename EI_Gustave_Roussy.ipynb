{
  "nbformat": 4,
  "nbformat_minor": 0,
  "metadata": {
    "colab": {
      "name": "EI_Gustave_Roussy.ipynb",
      "provenance": [],
      "collapsed_sections": [
        "3TGt-c2irQ9h",
        "UdCDey2FrGHc",
        "qeo7ZzGUrO2k",
        "pQw1OqaK_NZe",
        "av_H-LW4aefv",
        "bL9SMNadMdxL",
        "RpQEwZwGO0ax"
      ],
      "toc_visible": true
    },
    "kernelspec": {
      "name": "ir",
      "display_name": "R"
    }
  },
  "cells": [
    {
      "cell_type": "markdown",
      "metadata": {
        "id": "OZe3bhYEFLXx"
      },
      "source": [
        "**Attention** \n",
        "\n",
        "Il sera parfois nécessaire d'importer un fichier sur le Drive, et de changer les chemins dans les codes pour que tout s'exécute correctement."
      ]
    },
    {
      "cell_type": "markdown",
      "metadata": {
        "id": "3TGt-c2irQ9h"
      },
      "source": [
        "## Chargement des packages"
      ]
    },
    {
      "cell_type": "code",
      "metadata": {
        "id": "WVObtVBQFnJH",
        "colab": {
          "base_uri": "https://localhost:8080/",
          "height": 119
        },
        "outputId": "63f94975-b417-40dc-a01f-b03e5acdc164"
      },
      "source": [
        "install.packages(\"ClustOfVar\")"
      ],
      "execution_count": null,
      "outputs": [
        {
          "output_type": "stream",
          "text": [
            "Installing package into ‘/usr/local/lib/R/site-library’\n",
            "(as ‘lib’ is unspecified)\n",
            "\n",
            "also installing the dependency ‘PCAmixdata’\n",
            "\n",
            "\n"
          ],
          "name": "stderr"
        }
      ]
    },
    {
      "cell_type": "code",
      "metadata": {
        "id": "IH07Gyi4rU57"
      },
      "source": [
        "library(reshape2)\n",
        "library(ggplot2)\n",
        "#library(corrplot)\n",
        "#library(GGally)\n",
        "#library(factoextra)\n",
        "#library(pheatmap)\n",
        "#library(dendextend)\n",
        "library(ClustOfVar)"
      ],
      "execution_count": null,
      "outputs": []
    },
    {
      "cell_type": "markdown",
      "metadata": {
        "id": "UdCDey2FrGHc"
      },
      "source": [
        "## Chargement des données"
      ]
    },
    {
      "cell_type": "markdown",
      "metadata": {
        "id": "7wB4Tn72EdRq"
      },
      "source": [
        "Dans le menu à gauche, cliquer sur l'icône dossier puis \"Importer\" et sélectionner le fichier base_E3N_TDC.csv, puis exécuter les cellules suivantes."
      ]
    },
    {
      "cell_type": "code",
      "metadata": {
        "id": "cBG4rizGklsJ",
        "colab": {
          "base_uri": "https://localhost:8080/",
          "height": 1000
        },
        "outputId": "97f9082b-2ba2-4039-c64e-1f803b31af8b"
      },
      "source": [
        "base_E3N <- read.csv(\"base_E3N_TDC.csv\", header = TRUE, sep =\";\", stringsAsFactors = TRUE)\n",
        "X = base_E3N[, 1:NCOL(base_E3N)]\n",
        "str(X)\n",
        "summary(X)"
      ],
      "execution_count": null,
      "outputs": [
        {
          "output_type": "stream",
          "text": [
            "'data.frame':\t98995 obs. of  52 variables:\n",
            " $ ident               : int  100026 100030 100035 100056 100060 100065 100067 100069 100071 100072 ...\n",
            " $ taille              : num  160 158 164 156 160 158 167 164 162 166 ...\n",
            " $ imcq1               : num  22.3 22.4 20.8 21.4 26.6 ...\n",
            " $ ageq1               : num  52.3 45.2 40.8 44.7 53.3 ...\n",
            " $ soleil              : int  2 1 2 3 3 2 1 2 2 3 ...\n",
            " $ soleil1             : int  0 1 0 0 0 0 1 0 0 0 ...\n",
            " $ soleil2             : int  1 0 1 0 0 1 0 1 1 0 ...\n",
            " $ soleil3             : int  0 0 0 1 1 0 0 0 0 1 ...\n",
            " $ encoupleQ1          : int  0 1 1 1 1 1 1 1 0 0 ...\n",
            " $ age1ergross         : int  26 27 20 19 21 20 NA 24 26 23 ...\n",
            " $ nbenfvivmn          : int  3 2 2 3 3 3 3 2 0 3 ...\n",
            " $ allaitement_dureecum: num  NA 0 0 2.5 1 0 NA 2.5 0 7.5 ...\n",
            " $ meno1               : int  0 0 1 0 1 0 0 0 1 1 ...\n",
            " $ meno2               : int  1 1 0 1 0 1 1 0 0 0 ...\n",
            " $ meno3               : int  0 0 0 0 0 0 0 1 0 0 ...\n",
            " $ meno4               : int  0 0 0 0 0 0 0 0 0 0 ...\n",
            " $ MENO                : Factor w/ 5 levels \".\",\"1\",\"2\",\"3\",..: 3 3 2 3 2 3 3 4 2 2 ...\n",
            " $ MENOAGE             : Factor w/ 62 levels \"\",\".\",\"1\",\"10\",..: 1 1 36 1 44 1 1 1 39 47 ...\n",
            " $ REGLAGE             : Factor w/ 28 levels \"\",\"-7\",\"10\",\"10.5\",..: 7 8 7 9 8 5 5 6 9 9 ...\n",
            " $ alcoolq3            : num  NA 11.88 0.67 3.62 0 ...\n",
            " $ fruits              : num  NA 122 448 414 231 ...\n",
            " $ legumes             : num  NA 177 205 256 285 ...\n",
            " $ fruitslegumes       : num  NA 296 649 670 511 ...\n",
            " $ fruitslegumesbis    : num  NA 373 694 675 511 ...\n",
            " $ aphyq               : num  7.74 9.61 9.61 7.74 2.48 ...\n",
            " $ niv_etude           : int  3 2 NA 2 2 2 2 2 2 1 ...\n",
            " $ etude1              : int  0 0 0 0 0 0 0 0 0 1 ...\n",
            " $ etude2              : int  0 1 0 1 1 1 1 1 1 0 ...\n",
            " $ etude3              : int  1 0 0 0 0 0 0 0 0 0 ...\n",
            " $ tabacq1             : int  1 3 3 3 3 3 1 3 1 3 ...\n",
            " $ tabac1              : int  1 0 0 0 0 0 1 0 1 0 ...\n",
            " $ tabac2              : int  0 0 0 0 0 0 0 0 0 0 ...\n",
            " $ tabac3              : int  0 1 1 1 1 1 0 1 0 1 ...\n",
            " $ VE_Q3_migraine      : int  0 0 1 0 1 0 0 0 0 0 ...\n",
            " $ migraine0           : int  1 1 0 1 0 1 1 1 1 1 ...\n",
            " $ migraine1           : int  0 0 1 0 1 0 0 0 0 0 ...\n",
            " $ migraine2           : int  0 0 0 0 0 0 0 0 0 0 ...\n",
            " $ cas_pso             : int  0 0 0 0 1 1 0 0 1 0 ...\n",
            " $ MS060               : int  1 1 1 1 1 1 1 1 3 1 ...\n",
            " $ asthme1             : int  1 1 1 1 1 1 1 1 0 1 ...\n",
            " $ asthme2             : int  0 0 0 0 0 0 0 0 0 0 ...\n",
            " $ asthme3             : int  0 0 0 0 0 0 0 0 1 0 ...\n",
            " $ valid_AVC           : int  0 0 0 0 0 0 0 0 0 0 ...\n",
            " $ hypertension        : int  1 0 1 0 1 1 1 1 1 1 ...\n",
            " $ MI                  : int  0 0 0 0 0 0 0 0 0 0 ...\n",
            " $ OSTEOP              : int  NA 0 1 0 0 0 NA 0 0 1 ...\n",
            " $ polyarq9_q10        : int  0 0 0 0 0 0 0 0 0 0 ...\n",
            " $ RHUMATO             : Factor w/ 4 levels \"\",\".\",\"0\",\"1\": 3 4 3 4 3 3 3 3 4 3 ...\n",
            " $ diab                : int  0 0 0 0 0 1 1 0 1 0 ...\n",
            " $ ksein               : int  0 0 0 0 0 0 0 0 0 0 ...\n",
            " $ kcr                 : int  0 0 0 0 0 0 0 0 0 0 ...\n",
            " $ kpeau               : int  0 0 0 0 0 0 0 0 0 0 ...\n"
          ],
          "name": "stdout"
        },
        {
          "output_type": "display_data",
          "data": {
            "text/plain": [
              "     ident            taille          imcq1           ageq1      \n",
              " Min.   :100026   Min.   :134.0   Min.   :12.98   Min.   :38.54  \n",
              " 1st Qu.:316074   1st Qu.:158.0   1st Qu.:20.45   1st Qu.:43.60  \n",
              " Median :443324   Median :161.0   Median :22.04   Median :48.21  \n",
              " Mean   :441969   Mean   :161.6   Mean   :22.63   Mean   :49.41  \n",
              " 3rd Qu.:568311   3rd Qu.:165.0   3rd Qu.:24.09   3rd Qu.:54.20  \n",
              " Max.   :760069   Max.   :190.0   Max.   :59.87   Max.   :66.08  \n",
              "                  NA's   :167     NA's   :2314                   \n",
              "     soleil         soleil1          soleil2          soleil3      \n",
              " Min.   :1.000   Min.   :0.0000   Min.   :0.0000   Min.   :0.0000  \n",
              " 1st Qu.:2.000   1st Qu.:0.0000   1st Qu.:0.0000   1st Qu.:0.0000  \n",
              " Median :2.000   Median :0.0000   Median :0.0000   Median :0.0000  \n",
              " Mean   :2.054   Mean   :0.2295   Mean   :0.4662   Mean   :0.2825  \n",
              " 3rd Qu.:3.000   3rd Qu.:0.0000   3rd Qu.:1.0000   3rd Qu.:1.0000  \n",
              " Max.   :3.000   Max.   :1.0000   Max.   :1.0000   Max.   :1.0000  \n",
              " NA's   :2160                                                      \n",
              "   encoupleQ1     age1ergross      nbenfvivmn     allaitement_dureecum\n",
              " Min.   :0.000   Min.   :14.00   Min.   : 0.000   Min.   :  0.000     \n",
              " 1st Qu.:1.000   1st Qu.:22.00   1st Qu.: 1.000   1st Qu.:  0.000     \n",
              " Median :1.000   Median :24.00   Median : 2.000   Median :  1.000     \n",
              " Mean   :0.814   Mean   :24.62   Mean   : 2.013   Mean   :  3.238     \n",
              " 3rd Qu.:1.000   3rd Qu.:27.00   3rd Qu.: 3.000   3rd Qu.:  5.000     \n",
              " Max.   :1.000   Max.   :59.00   Max.   :15.000   Max.   :120.000     \n",
              " NA's   :4431    NA's   :9927    NA's   :12       NA's   :12085       \n",
              "     meno1           meno2            meno3            meno4          \n",
              " Min.   :0.000   Min.   :0.0000   Min.   :0.0000   Min.   :0.0000000  \n",
              " 1st Qu.:0.000   1st Qu.:0.0000   1st Qu.:0.0000   1st Qu.:0.0000000  \n",
              " Median :0.000   Median :0.0000   Median :0.0000   Median :0.0000000  \n",
              " Mean   :0.344   Mean   :0.4972   Mean   :0.1137   Mean   :0.0002828  \n",
              " 3rd Qu.:1.000   3rd Qu.:1.0000   3rd Qu.:0.0000   3rd Qu.:0.0000000  \n",
              " Max.   :1.000   Max.   :1.0000   Max.   :1.0000   Max.   :1.0000000  \n",
              "                                                                      \n",
              " MENO         MENOAGE         REGLAGE         alcoolq3          fruits      \n",
              " .: 4441          :61943   13     :19940   Min.   :  0.00   Min.   :   0.0  \n",
              " 1:34054   50     : 5713   12     :19105   1st Qu.:  1.58   1st Qu.: 138.3  \n",
              " 2:49216   52     : 3860   14     :16183   Median :  6.85   Median : 231.0  \n",
              " 3:11256   48     : 2984   11     :11234   Mean   : 11.65   Mean   : 255.3  \n",
              " 4:   28   51     : 2692   15     : 5605   3rd Qu.: 16.56   3rd Qu.: 330.9  \n",
              "           53     : 2684   12.5   : 5252   Max.   :304.36   Max.   :1940.3  \n",
              "           (Other):19119   (Other):21676   NA's   :24473    NA's   :24473   \n",
              "    legumes       fruitslegumes    fruitslegumesbis     aphyq       \n",
              " Min.   :   0.0   Min.   :   0.0   Min.   :   0.0   Min.   :  0.00  \n",
              " 1st Qu.: 181.6   1st Qu.: 360.4   1st Qu.: 428.2   1st Qu.: 26.56  \n",
              " Median : 257.1   Median : 495.9   Median : 579.7   Median : 38.56  \n",
              " Mean   : 277.6   Mean   : 529.5   Mean   : 614.5   Mean   : 44.53  \n",
              " 3rd Qu.: 350.1   3rd Qu.: 661.1   3rd Qu.: 759.8   3rd Qu.: 55.11  \n",
              " Max.   :1250.0   Max.   :2707.9   Max.   :3328.9   Max.   :223.80  \n",
              " NA's   :24473    NA's   :24473    NA's   :24473    NA's   :1436    \n",
              "   niv_etude        etude1           etude2           etude3      \n",
              " Min.   :1.00   Min.   :0.0000   Min.   :0.0000   Min.   :0.0000  \n",
              " 1st Qu.:2.00   1st Qu.:0.0000   1st Qu.:0.0000   1st Qu.:0.0000  \n",
              " Median :2.00   Median :0.0000   Median :0.0000   Median :0.0000  \n",
              " Mean   :2.22   Mean   :0.1348   Mean   :0.4768   Mean   :0.3452  \n",
              " 3rd Qu.:3.00   3rd Qu.:0.0000   3rd Qu.:1.0000   3rd Qu.:1.0000  \n",
              " Max.   :3.00   Max.   :1.0000   Max.   :1.0000   Max.   :1.0000  \n",
              " NA's   :4276                                                     \n",
              "    tabacq1          tabac1          tabac2           tabac3      \n",
              " Min.   :1.000   Min.   :0.000   Min.   :0.0000   Min.   :0.0000  \n",
              " 1st Qu.:2.000   1st Qu.:0.000   1st Qu.:0.0000   1st Qu.:0.0000  \n",
              " Median :3.000   Median :0.000   Median :0.0000   Median :1.0000  \n",
              " Mean   :2.391   Mean   :0.149   Mean   :0.3047   Mean   :0.5367  \n",
              " 3rd Qu.:3.000   3rd Qu.:0.000   3rd Qu.:1.0000   3rd Qu.:1.0000  \n",
              " Max.   :3.000   Max.   :1.000   Max.   :1.0000   Max.   :1.0000  \n",
              " NA's   :945                                                      \n",
              " VE_Q3_migraine     migraine0        migraine1        migraine2     \n",
              " Min.   :0.0000   Min.   :0.0000   Min.   :0.0000   Min.   :0.0000  \n",
              " 1st Qu.:0.0000   1st Qu.:1.0000   1st Qu.:0.0000   1st Qu.:0.0000  \n",
              " Median :0.0000   Median :1.0000   Median :0.0000   Median :0.0000  \n",
              " Mean   :0.3746   Mean   :0.7527   Mean   :0.1199   Mean   :0.1274  \n",
              " 3rd Qu.:0.0000   3rd Qu.:1.0000   3rd Qu.:0.0000   3rd Qu.:0.0000  \n",
              " Max.   :2.0000   Max.   :1.0000   Max.   :1.0000   Max.   :1.0000  \n",
              "                                                                    \n",
              "    cas_pso            MS060          asthme1          asthme2       \n",
              " Min.   :0.00000   Min.   :1.000   Min.   :0.0000   Min.   :0.00000  \n",
              " 1st Qu.:0.00000   1st Qu.:1.000   1st Qu.:1.0000   1st Qu.:0.00000  \n",
              " Median :0.00000   Median :1.000   Median :1.0000   Median :0.00000  \n",
              " Mean   :0.08954   Mean   :1.132   Mean   :0.8804   Mean   :0.03851  \n",
              " 3rd Qu.:0.00000   3rd Qu.:1.000   3rd Qu.:1.0000   3rd Qu.:0.00000  \n",
              " Max.   :1.00000   Max.   :3.000   Max.   :1.0000   Max.   :1.00000  \n",
              "                   NA's   :3619                                      \n",
              "    asthme3          valid_AVC         hypertension          MI          \n",
              " Min.   :0.00000   Min.   :0.000000   Min.   :0.0000   Min.   :0.000000  \n",
              " 1st Qu.:0.00000   1st Qu.:0.000000   1st Qu.:0.0000   1st Qu.:0.000000  \n",
              " Median :0.00000   Median :0.000000   Median :1.0000   Median :0.000000  \n",
              " Mean   :0.04449   Mean   :0.006182   Mean   :0.5033   Mean   :0.006344  \n",
              " 3rd Qu.:0.00000   3rd Qu.:0.000000   3rd Qu.:1.0000   3rd Qu.:0.000000  \n",
              " Max.   :1.00000   Max.   :1.000000   Max.   :1.0000   Max.   :1.000000  \n",
              "                                                                         \n",
              "     OSTEOP       polyarq9_q10     RHUMATO        diab        \n",
              " Min.   :0.000   Min.   :0.00000    :  527   Min.   :0.00000  \n",
              " 1st Qu.:0.000   1st Qu.:0.00000   .:    5   1st Qu.:0.00000  \n",
              " Median :0.000   Median :0.00000   0:73713   Median :0.00000  \n",
              " Mean   :0.157   Mean   :0.02202   1:24750   Mean   :0.06726  \n",
              " 3rd Qu.:0.000   3rd Qu.:0.00000             3rd Qu.:0.00000  \n",
              " Max.   :1.000   Max.   :1.00000             Max.   :1.00000  \n",
              " NA's   :25291                                                \n",
              "     ksein              kcr              kpeau        \n",
              " Min.   :0.00000   Min.   :0.00000   Min.   :0.00000  \n",
              " 1st Qu.:0.00000   1st Qu.:0.00000   1st Qu.:0.00000  \n",
              " Median :0.00000   Median :0.00000   Median :0.00000  \n",
              " Mean   :0.08322   Mean   :0.01104   Mean   :0.01979  \n",
              " 3rd Qu.:0.00000   3rd Qu.:0.00000   3rd Qu.:0.00000  \n",
              " Max.   :1.00000   Max.   :1.00000   Max.   :1.00000  \n",
              "                                                      "
            ]
          },
          "metadata": {
            "tags": []
          }
        }
      ]
    },
    {
      "cell_type": "markdown",
      "metadata": {
        "id": "qeo7ZzGUrO2k"
      },
      "source": [
        "## Nettoyage des données\n"
      ]
    },
    {
      "cell_type": "markdown",
      "metadata": {
        "id": "AAq9-eZprcIV"
      },
      "source": [
        "On commence par remplacer le type Factor par le type num ou int"
      ]
    },
    {
      "cell_type": "code",
      "metadata": {
        "id": "TbKRhs4wrFE7",
        "colab": {
          "base_uri": "https://localhost:8080/",
          "height": 153
        },
        "outputId": "1e59791c-3240-4296-fefe-4b96c61ad587"
      },
      "source": [
        "X$MENO <- as.numeric(levels(X$MENO))[as.integer(X$MENO)]\n",
        "X$MENOAGE <- as.numeric(levels(X$MENOAGE))[as.integer(X$MENOAGE)]\n",
        "X$REGLAGE <- as.numeric(levels(X$REGLAGE))[as.integer(X$REGLAGE)]\n",
        "X$RHUMATO <- as.numeric(levels(X$RHUMATO))[as.integer(X$RHUMATO)]"
      ],
      "execution_count": null,
      "outputs": [
        {
          "output_type": "stream",
          "text": [
            "Warning message in eval(expr, envir, enclos):\n",
            "“NAs introduced by coercion”\n",
            "Warning message in eval(expr, envir, enclos):\n",
            "“NAs introduced by coercion”\n",
            "Warning message in eval(expr, envir, enclos):\n",
            "“NAs introduced by coercion”\n",
            "Warning message in eval(expr, envir, enclos):\n",
            "“NAs introduced by coercion”\n"
          ],
          "name": "stderr"
        }
      ]
    },
    {
      "cell_type": "markdown",
      "metadata": {
        "id": "qkqgrkzpr_Zg"
      },
      "source": [
        "On met 0 au lieu de 1 pour les non asthmatiques (colonne **MS060**)"
      ]
    },
    {
      "cell_type": "code",
      "metadata": {
        "id": "r_6glyb8r1FS"
      },
      "source": [
        "X$MS060[X$MS060==1] <- 0 "
      ],
      "execution_count": null,
      "outputs": []
    },
    {
      "cell_type": "markdown",
      "metadata": {
        "id": "kwcvp8LmsGtW"
      },
      "source": [
        "On remplace les données manquantes par des 0 dans **encoupleQ1, nbenfvivmn, MS060** (0 dans MS060, 1 dans asthme1), **OSTEOP, RHUMATO**"
      ]
    },
    {
      "cell_type": "code",
      "metadata": {
        "id": "ZHpyerftsJR3"
      },
      "source": [
        "X$encoupleQ1[is.na(X$encoupleQ1)] <- 0\n",
        "X$nbenfvivmn[is.na(X$nbenfvivmn)] <- 0\n",
        "X$MS060[is.na(X$MS060)] <- 0\n",
        "X$asthme1[X$MS060==0]<-1\n",
        "X$OSTEOP[is.na(X$OSTEOP)] <- 0\n",
        "X$RHUMATO[is.na(X$RHUMATO)] <- 0"
      ],
      "execution_count": null,
      "outputs": []
    },
    {
      "cell_type": "markdown",
      "metadata": {
        "id": "SWm3FPczsOvd"
      },
      "source": [
        "On remplace les données manquantes dans **taille, imcq1, age1ergross, alcoolq3, fruits, legumes, fruitslegumes, fruitslegumesbis et aphyq** par la moyenne pour ces colonnes"
      ]
    },
    {
      "cell_type": "code",
      "metadata": {
        "id": "pzk-3BFJsQ6c"
      },
      "source": [
        "X$taille[is.na(X$taille)] <- mean(X$taille[!is.na(X$taille)])\n",
        "X$imcq1[is.na(X$imcq1)] <- mean(X$imcq1[!is.na(X$imcq1)])\n",
        "X$age1ergross[is.na(X$age1ergross) & X$nbenfvivmn>0] <- mean(X$age1ergross[!is.na(X$age1ergross)])\n",
        "X$alcoolq3[is.na(X$alcoolq3)] <- mean(X$alcoolq3[!is.na(X$alcoolq3)])\n",
        "X$fruits[is.na(X$fruits)] <- mean(!is.na(X$fruits))\n",
        "X$legumes[is.na(X$legumes)] <- mean(!is.na(X$legumes))\n",
        "X$fruitslegumes[is.na(X$fruitslegumes)] <- mean(!is.na(X$fruitslegumes))\n",
        "X$fruitslegumesbis[is.na(X$fruitslegumesbis)] <- mean(!is.na(X$fruitslegumesbis))\n",
        "X$aphyq[is.na(X$aphyq)] <- mean(X$aphyq[!is.na(X$aphyq)])"
      ],
      "execution_count": null,
      "outputs": []
    },
    {
      "cell_type": "markdown",
      "metadata": {
        "id": "k7ZArGJSs3Hj"
      },
      "source": [
        "On remplace remplace les NAs par 2 dans **soleil** (la moyenne étant de 2.054) et dans **niv_etude**, (moyenne = 2.22).\n",
        "On modifie également les colonnes du TDC pour prendre en compte ces modifications."
      ]
    },
    {
      "cell_type": "code",
      "metadata": {
        "id": "0IK8vUdis87s"
      },
      "source": [
        "X$soleil[is.na(X$soleil)] <- 2\n",
        "X$soleil2[X$soleil==2]<-1\n",
        "\n",
        "X$niv_etude[is.na(X$niv_etude)] <- 2\n",
        "X$etude2[X$niv_etude==2] <- 1"
      ],
      "execution_count": null,
      "outputs": []
    },
    {
      "cell_type": "markdown",
      "metadata": {
        "id": "34bgqVyYtAAe"
      },
      "source": [
        "**Colonne allaitement**\n",
        "\n",
        "Durée moyenne d'allaitement par enfant : dmape"
      ]
    },
    {
      "cell_type": "code",
      "metadata": {
        "id": "ivy3SnfctH27",
        "colab": {
          "base_uri": "https://localhost:8080/",
          "height": 34
        },
        "outputId": "fd245112-f8d2-4a9e-a15d-b237897752b2"
      },
      "source": [
        "Y=X$allaitement_dureecum[!is.na(X$nbenfvivmn) & X$nbenfvivmn>0 & !is.na(X$allaitement_dureecum)]/X$nbenfvivmn[!is.na(X$nbenfvivmn) & X$nbenfvivmn>0 & !is.na(X$allaitement_dureecum)]\n",
        "mean(Y)\n",
        "dmape = mean(Y)\n",
        "dmape = 1.37 # en fait mon calcul est faux oupsi"
      ],
      "execution_count": null,
      "outputs": [
        {
          "output_type": "display_data",
          "data": {
            "text/plain": [
              "[1] 1.589222"
            ],
            "text/latex": "1.58922171390442",
            "text/markdown": "1.58922171390442",
            "text/html": [
              "1.58922171390442"
            ]
          },
          "metadata": {
            "tags": []
          }
        }
      ]
    },
    {
      "cell_type": "markdown",
      "metadata": {
        "id": "ynpcK8D5tWC_"
      },
      "source": [
        "On remplace la durée d'allaitement par dmape*nb enfants "
      ]
    },
    {
      "cell_type": "code",
      "metadata": {
        "id": "q9R_WLlPtaGD"
      },
      "source": [
        "X$allaitement_dureecum[is.na(X$allaitement_dureecum)]<-dmape*X$nbenfvivmn[is.na(X$allaitement_dureecum)]"
      ],
      "execution_count": null,
      "outputs": []
    },
    {
      "cell_type": "markdown",
      "metadata": {
        "id": "96bfRNSuvE1B"
      },
      "source": [
        "**MENO** : Si un âge de ménopause est indiqué, ou si la femme avait plus de 53 ans lors de son inclusion dans la cohorte (et a eu ses règles dans sa vie), on considère que la femme est ménopausée, sinon non.\n",
        "Si MENO = 2 mais un âge de ménopause est indiqué, on passe MENO à 1 si ageq1-MENOAGE > 7, et à 3 si ageq1-MENOAGE <= 7. \n",
        "\n",
        "Pourcentages calculés grâce aux données :\n",
        "\n",
        "*   ageq1 < 48.11 --> 88% MENO = 2\n",
        "*   48.11 < ageq1 < 53 --> 33% MENO = 1, 33% MENO = 2, 33% MENO = 3\n",
        "*   ageq1 > 53 --> 89% MENO = 1"
      ]
    },
    {
      "cell_type": "code",
      "metadata": {
        "id": "2vEf6449vX8h"
      },
      "source": [
        "X$MENO[is.na(X$MENO) & ( !is.na(X$MENOAGE) | (is.na(X$MENOAGE) & X$ageq1>53))]<- 1\n",
        "X$MENO[!is.na(X$MENOAGE) & (X$MENO == 4 & (X$ageq1 - X$MENOAGE > 7))| (X$MENO == 2 & (X$ageq1 - X$MENOAGE > 7)) ) ] <- 1\n",
        "\n",
        "\n",
        "X$MENO[ is.na(X$MENO) & is.na(X$MENOAGE) & X$ageq1<=48.11] <- 2\n",
        "\n",
        "X$MENO[ is.na(X$MENO) & is.na(X$MENOAGE) & 48.11<=X$ageq1 & X$ageq1<=53] <- 3\n",
        "X$MENO[!is.na(X$MENOAGE) & (X$MENO == 4 & (X$ageq1 - X$MENOAGE <= 7)) | (X$MENO == 2 & (X$ageq1 - X$MENOAGE <= 7)) ] <- 3\n",
        "\n",
        "X$meno1[X$MENO==1] <- 1\n",
        "X$meno1[X$MENO!=1] <- 0\n",
        "\n",
        "X$meno2[X$MENO==2] <- 1\n",
        "X$meno2[X$MENO!=2] <- 0\n",
        "\n",
        "X$meno3[X$MENO==3] <- 1\n",
        "X$meno3[X$MENO!=3] <- 0\n",
        "\n",
        "X$meno4[X$MENO==4] <- 1\n",
        "X$meno4[X$MENO!=4] <- 0"
      ],
      "execution_count": null,
      "outputs": []
    },
    {
      "cell_type": "markdown",
      "metadata": {
        "id": "aoQLixdftdyW"
      },
      "source": [
        "**MENOAGE** : Lorsque l'on sait que la femme a été ménopausée, on remplace NA par l'âge moyen de ménopause ou par l'âge de la femme si elle est plus âgée que cette moyenne.\n"
      ]
    },
    {
      "cell_type": "code",
      "metadata": {
        "id": "UX4nLcURt9cK"
      },
      "source": [
        "X$MENOAGE[is.na(X$MENOAGE) & X$MENO == 1] <- max(mean(X$MENOAGE[!is.na(X$MENOAGE)]) , X$ageq1 + 1)\n",
        "X$MENOAGE[is.na(X$MENOAGE) & X$MENO == 3] <- max(mean(X$MENOAGE[!is.na(X$MENOAGE)]) , X$ageq1)"
      ],
      "execution_count": null,
      "outputs": []
    },
    {
      "cell_type": "markdown",
      "metadata": {
        "id": "cc5nxHDhu65g"
      },
      "source": [
        "**REGLAGE** : \n",
        "On remplace les valeurs négatives par des valeurs positives\n",
        "\n",
        "On remplace par l'âge moyen (en supposant que toutes les femmes ont eu leurs règles, sauf si elles ont précisé le contraire)"
      ]
    },
    {
      "cell_type": "code",
      "metadata": {
        "id": "ls4DWOysu8cJ",
        "colab": {
          "base_uri": "https://localhost:8080/",
          "height": 51
        },
        "outputId": "c53ce940-af2b-4304-c4b6-4ec2d3c38627"
      },
      "source": [
        "X$REGLAGE[!is.na(X$REGLAGE) & X$REGLAGE < 0 ] <- abs(X$REGLAGE[!is.na(X$REGLAGE) & X$REGLAGE < 0 ])\n",
        "X$REGLAGE[is.na(X$REGLAGE) & X$meno4!=1] <- mean(X$REGLAGE[!is.na(X$REGLAGE)])\n",
        "summary(X$meno4)"
      ],
      "execution_count": null,
      "outputs": [
        {
          "output_type": "display_data",
          "data": {
            "text/plain": [
              "     Min.   1st Qu.    Median      Mean   3rd Qu.      Max. \n",
              "0.0000000 0.0000000 0.0000000 0.0002727 0.0000000 1.0000000 "
            ]
          },
          "metadata": {
            "tags": []
          }
        }
      ]
    },
    {
      "cell_type": "markdown",
      "metadata": {
        "id": "5hvX_5s5TiYt"
      },
      "source": [
        "**Tabac** On remplace les NAs par \"3\" (on considère les femmes non fumeuses par défaut)"
      ]
    },
    {
      "cell_type": "code",
      "metadata": {
        "id": "5X-zmCD3TcQU"
      },
      "source": [
        "X$tabacq1[is.na(X$tabacq1)]<-3\n",
        "X$tabac3[X$tabacq1==3] <- 1"
      ],
      "execution_count": null,
      "outputs": []
    },
    {
      "cell_type": "markdown",
      "metadata": {
        "id": "tC8hHXWLuD_F"
      },
      "source": [
        "On vérifie que tout va bien"
      ]
    },
    {
      "cell_type": "code",
      "metadata": {
        "id": "2pCxjahMueGE",
        "colab": {
          "base_uri": "https://localhost:8080/",
          "height": 1000
        },
        "outputId": "788dfcbc-d983-483f-94a5-f2c08e88cce6"
      },
      "source": [
        "summary(X)"
      ],
      "execution_count": null,
      "outputs": [
        {
          "output_type": "display_data",
          "data": {
            "text/plain": [
              "     ident            taille          imcq1           ageq1      \n",
              " Min.   :100026   Min.   :134.0   Min.   :12.98   Min.   :38.54  \n",
              " 1st Qu.:316074   1st Qu.:158.0   1st Qu.:20.55   1st Qu.:43.60  \n",
              " Median :443324   Median :161.0   Median :22.14   Median :48.21  \n",
              " Mean   :441969   Mean   :161.6   Mean   :22.63   Mean   :49.41  \n",
              " 3rd Qu.:568311   3rd Qu.:165.0   3rd Qu.:24.03   3rd Qu.:54.20  \n",
              " Max.   :760069   Max.   :190.0   Max.   :59.87   Max.   :66.08  \n",
              "                                                                 \n",
              "     soleil         soleil1          soleil2         soleil3      \n",
              " Min.   :1.000   Min.   :0.0000   Min.   :0.000   Min.   :0.0000  \n",
              " 1st Qu.:2.000   1st Qu.:0.0000   1st Qu.:0.000   1st Qu.:0.0000  \n",
              " Median :2.000   Median :0.0000   Median :0.000   Median :0.0000  \n",
              " Mean   :2.053   Mean   :0.2295   Mean   :0.488   Mean   :0.2825  \n",
              " 3rd Qu.:3.000   3rd Qu.:0.0000   3rd Qu.:1.000   3rd Qu.:1.0000  \n",
              " Max.   :3.000   Max.   :1.0000   Max.   :1.000   Max.   :1.0000  \n",
              "                                                                  \n",
              "   encoupleQ1      age1ergross      nbenfvivmn     allaitement_dureecum\n",
              " Min.   :0.0000   Min.   :14.00   Min.   : 0.000   Min.   :  0.000     \n",
              " 1st Qu.:1.0000   1st Qu.:22.00   1st Qu.: 1.000   1st Qu.:  0.000     \n",
              " Median :1.0000   Median :24.00   Median : 2.000   Median :  2.000     \n",
              " Mean   :0.7774   Mean   :24.62   Mean   : 2.012   Mean   :  3.228     \n",
              " 3rd Qu.:1.0000   3rd Qu.:27.00   3rd Qu.: 3.000   3rd Qu.:  4.500     \n",
              " Max.   :1.0000   Max.   :59.00   Max.   :15.000   Max.   :120.000     \n",
              "                  NA's   :9612                                         \n",
              "     meno1            meno2           meno3            meno4          \n",
              " Min.   :0.0000   Min.   :0.000   Min.   :0.0000   Min.   :0.0000000  \n",
              " 1st Qu.:0.0000   1st Qu.:0.000   1st Qu.:0.0000   1st Qu.:0.0000000  \n",
              " Median :0.0000   Median :1.000   Median :0.0000   Median :0.0000000  \n",
              " Mean   :0.3616   Mean   :0.514   Mean   :0.1241   Mean   :0.0002727  \n",
              " 3rd Qu.:1.0000   3rd Qu.:1.000   3rd Qu.:0.0000   3rd Qu.:0.0000000  \n",
              " Max.   :1.0000   Max.   :1.000   Max.   :1.0000   Max.   :1.0000000  \n",
              "                                                                      \n",
              "      MENO          MENOAGE         REGLAGE        alcoolq3     \n",
              " Min.   :1.000   Min.   : 1.00   Min.   : 7.0   Min.   :  0.00  \n",
              " 1st Qu.:1.000   1st Qu.:48.00   1st Qu.:12.0   1st Qu.:  2.92  \n",
              " Median :2.000   Median :51.00   Median :13.0   Median : 11.65  \n",
              " Mean   :1.763   Mean   :52.67   Mean   :12.8   Mean   : 11.65  \n",
              " 3rd Qu.:2.000   3rd Qu.:56.00   3rd Qu.:14.0   3rd Qu.: 12.50  \n",
              " Max.   :4.000   Max.   :67.08   Max.   :19.5   Max.   :304.36  \n",
              "                 NA's   :50912   NA's   :20                     \n",
              "     fruits             legumes        fruitslegumes    fruitslegumesbis \n",
              " Min.   :   0.0000   Min.   :   0.00   Min.   :   0.0   Min.   :   0.00  \n",
              " 1st Qu.:   0.7528   1st Qu.:  24.59   1st Qu.:  61.6   1st Qu.:  81.28  \n",
              " Median : 163.2833   Median : 208.39   Median : 408.7   Median : 482.32  \n",
              " Mean   : 192.4017   Mean   : 209.13   Mean   : 398.8   Mean   : 462.80  \n",
              " 3rd Qu.: 300.2819   3rd Qu.: 314.59   3rd Qu.: 596.9   3rd Qu.: 692.17  \n",
              " Max.   :1940.2830   Max.   :1250.00   Max.   :2707.9   Max.   :3328.87  \n",
              "                                                                         \n",
              "     aphyq          niv_etude        etude1           etude2    \n",
              " Min.   :  0.00   Min.   :1.00   Min.   :0.0000   Min.   :0.00  \n",
              " 1st Qu.: 26.56   1st Qu.:2.00   1st Qu.:0.0000   1st Qu.:0.00  \n",
              " Median : 38.98   Median :2.00   Median :0.0000   Median :1.00  \n",
              " Mean   : 44.53   Mean   :2.21   Mean   :0.1348   Mean   :0.52  \n",
              " 3rd Qu.: 55.11   3rd Qu.:3.00   3rd Qu.:0.0000   3rd Qu.:1.00  \n",
              " Max.   :223.80   Max.   :3.00   Max.   :1.0000   Max.   :1.00  \n",
              "                                                                \n",
              "     etude3          tabacq1          tabac1          tabac2      \n",
              " Min.   :0.0000   Min.   :1.000   Min.   :0.000   Min.   :0.0000  \n",
              " 1st Qu.:0.0000   1st Qu.:2.000   1st Qu.:0.000   1st Qu.:0.0000  \n",
              " Median :0.0000   Median :3.000   Median :0.000   Median :0.0000  \n",
              " Mean   :0.3452   Mean   :2.397   Mean   :0.149   Mean   :0.3047  \n",
              " 3rd Qu.:1.0000   3rd Qu.:3.000   3rd Qu.:0.000   3rd Qu.:1.0000  \n",
              " Max.   :1.0000   Max.   :3.000   Max.   :1.000   Max.   :1.0000  \n",
              "                                                                  \n",
              "     tabac3       VE_Q3_migraine     migraine0        migraine1     \n",
              " Min.   :0.0000   Min.   :0.0000   Min.   :0.0000   Min.   :0.0000  \n",
              " 1st Qu.:0.0000   1st Qu.:0.0000   1st Qu.:1.0000   1st Qu.:0.0000  \n",
              " Median :1.0000   Median :0.0000   Median :1.0000   Median :0.0000  \n",
              " Mean   :0.5462   Mean   :0.3746   Mean   :0.7527   Mean   :0.1199  \n",
              " 3rd Qu.:1.0000   3rd Qu.:0.0000   3rd Qu.:1.0000   3rd Qu.:0.0000  \n",
              " Max.   :1.0000   Max.   :2.0000   Max.   :1.0000   Max.   :1.0000  \n",
              "                                                                    \n",
              "   migraine2         cas_pso            MS060           asthme1     \n",
              " Min.   :0.0000   Min.   :0.00000   Min.   :0.0000   Min.   :0.000  \n",
              " 1st Qu.:0.0000   1st Qu.:0.00000   1st Qu.:0.0000   1st Qu.:1.000  \n",
              " Median :0.0000   Median :0.00000   Median :0.0000   Median :1.000  \n",
              " Mean   :0.1274   Mean   :0.08954   Mean   :0.2105   Mean   :0.917  \n",
              " 3rd Qu.:0.0000   3rd Qu.:0.00000   3rd Qu.:0.0000   3rd Qu.:1.000  \n",
              " Max.   :1.0000   Max.   :1.00000   Max.   :3.0000   Max.   :1.000  \n",
              "                                                                    \n",
              "    asthme2           asthme3          valid_AVC         hypertension   \n",
              " Min.   :0.00000   Min.   :0.00000   Min.   :0.000000   Min.   :0.0000  \n",
              " 1st Qu.:0.00000   1st Qu.:0.00000   1st Qu.:0.000000   1st Qu.:0.0000  \n",
              " Median :0.00000   Median :0.00000   Median :0.000000   Median :1.0000  \n",
              " Mean   :0.03851   Mean   :0.04449   Mean   :0.006182   Mean   :0.5033  \n",
              " 3rd Qu.:0.00000   3rd Qu.:0.00000   3rd Qu.:0.000000   3rd Qu.:1.0000  \n",
              " Max.   :1.00000   Max.   :1.00000   Max.   :1.000000   Max.   :1.0000  \n",
              "                                                                        \n",
              "       MI               OSTEOP        polyarq9_q10        RHUMATO    \n",
              " Min.   :0.000000   Min.   :0.0000   Min.   :0.00000   Min.   :0.00  \n",
              " 1st Qu.:0.000000   1st Qu.:0.0000   1st Qu.:0.00000   1st Qu.:0.00  \n",
              " Median :0.000000   Median :0.0000   Median :0.00000   Median :0.00  \n",
              " Mean   :0.006344   Mean   :0.1168   Mean   :0.02202   Mean   :0.25  \n",
              " 3rd Qu.:0.000000   3rd Qu.:0.0000   3rd Qu.:0.00000   3rd Qu.:1.00  \n",
              " Max.   :1.000000   Max.   :1.0000   Max.   :1.00000   Max.   :1.00  \n",
              "                                                                     \n",
              "      diab             ksein              kcr              kpeau        \n",
              " Min.   :0.00000   Min.   :0.00000   Min.   :0.00000   Min.   :0.00000  \n",
              " 1st Qu.:0.00000   1st Qu.:0.00000   1st Qu.:0.00000   1st Qu.:0.00000  \n",
              " Median :0.00000   Median :0.00000   Median :0.00000   Median :0.00000  \n",
              " Mean   :0.06726   Mean   :0.08322   Mean   :0.01104   Mean   :0.01979  \n",
              " 3rd Qu.:0.00000   3rd Qu.:0.00000   3rd Qu.:0.00000   3rd Qu.:0.00000  \n",
              " Max.   :1.00000   Max.   :1.00000   Max.   :1.00000   Max.   :1.00000  \n",
              "                                                                        "
            ]
          },
          "metadata": {
            "tags": []
          }
        }
      ]
    },
    {
      "cell_type": "markdown",
      "metadata": {
        "id": "pQw1OqaK_NZe"
      },
      "source": [
        "## Exportation des données nettoyées"
      ]
    },
    {
      "cell_type": "code",
      "metadata": {
        "id": "6JSo45eh_Mrn"
      },
      "source": [
        "write.csv(X,\"base_E3N_clean.csv\", row.names = TRUE)"
      ],
      "execution_count": null,
      "outputs": []
    },
    {
      "cell_type": "markdown",
      "metadata": {
        "id": "av_H-LW4aefv"
      },
      "source": [
        "## Clustering"
      ]
    },
    {
      "cell_type": "code",
      "metadata": {
        "id": "YAsGG1dnJfHq"
      },
      "source": [
        "X <- read.csv(\"base_E3N_clean.csv\", header = TRUE, sep =\",\", stringsAsFactors = TRUE)"
      ],
      "execution_count": null,
      "outputs": []
    },
    {
      "cell_type": "code",
      "metadata": {
        "id": "A-hD68rMapY4",
        "colab": {
          "base_uri": "https://localhost:8080/",
          "height": 437
        },
        "outputId": "8920e348-dc4c-4dea-d9c1-eb79bb9208f2"
      },
      "source": [
        "# On crée une seule colonne pour la migraine : 1 si cas de migraine (ancien ou actuel), 0 si non cas ; idem pour l'asthme\n",
        "\n",
        "X$migraine <- X$migraine1 + X$migraine2\n",
        "X$asthme <- X$asthme2 + X$asthme3\n",
        "\n",
        "# On réalise le clustering avec la bibliothèque ClustOfVar \n",
        "\n",
        "arbre <- hclustvar(X.quanti = X[c(39, 44:55)])\n",
        "plot(arbre)"
      ],
      "execution_count": null,
      "outputs": [
        {
          "output_type": "display_data",
          "data": {
            "image/png": "[encoded data removed]",
            "text/plain": [
              "Plot with title “Cluster Dendrogram”"
            ]
          },
          "metadata": {
            "tags": [],
            "image/png": {
              "width": 420,
              "height": 420
            },
            "text/plain": {
              "width": 420,
              "height": 420
            }
          }
        }
      ]
    },
    {
      "cell_type": "code",
      "metadata": {
        "id": "wrUZzM6MUskE"
      },
      "source": [
        "#Dendrogramme sur les populations\n",
        "\n",
        "Y = X[1:100,c(37, 42:53)]\n",
        "Y =scale(Y)\n",
        "dmat <-dist(Y, method = \"euclidean\")^2\n",
        "pheatmap(as.matrix(dmat),cluster_rows = FALSE,cluster_cols = FALSE,fontsize=6)\n",
        "fit.hc <-hclust(dmat, method = \"ward.D\")\n",
        "plot(fit.hc)\n",
        "rect.hclust(fit.hc, k=5)"
      ],
      "execution_count": null,
      "outputs": []
    },
    {
      "cell_type": "markdown",
      "metadata": {
        "id": "bL9SMNadMdxL"
      },
      "source": [
        "## K-Means\n"
      ]
    },
    {
      "cell_type": "code",
      "metadata": {
        "id": "wwsNopv_McxS"
      },
      "source": [
        "X <- read.csv(\"base_E3N_clean.csv\", header = TRUE, sep =\",\", stringsAsFactors = TRUE)\n",
        "\n",
        "X$migraine <- X$migraine1 + X$migraine2\n",
        "X$asthme <- X$asthme2 + X$asthme3\n",
        "\n",
        "Y = X[,c(37, 42:53)]\n",
        "\n",
        "\n",
        "# k-means\n",
        "\n",
        "groupes.kmeans <- kmeans(Y,centers=8,nstart=10)\n",
        "print(groupes.kmeans)\n",
        "\n",
        "#(1)évaluer la proportion d'inertie expliquée\n",
        "inertie.expl <- rep(0,times=10)\n",
        "for (k in 2:20){\n",
        "  clus <- kmeans(Y,centers=k,nstart=10)\n",
        "  inertie.expl[k] <- clus$betweenss/clus$totss\n",
        "}\n",
        "#graphique\n",
        "plot(1:20,inertie.expl,type=\"b\",xlab=\"Nb. de groupes\",ylab=\"% inertie expliquée\")"
      ],
      "execution_count": null,
      "outputs": []
    },
    {
      "cell_type": "markdown",
      "metadata": {
        "id": "axHMcQICiUus"
      },
      "source": [
        "On s'aperçoit par exemple pour le clustering à 6 groupes qu'on obtient des groupes assez significativement distincts. En effet le cluster 1 semble apparaître comme un cluster \"sain\": il se caractérise par l'absence totale de cas de d'hypertension, de migraine et de rhumatismes et par une fréquence significativement plus basse des autres maladies. A l'opposé, le cluster 4 est \"le plus malade\": on a 100% de rhumatismes et d'hypertension, et une fréquence significativement plus élevé des autres maladies. Les autres groupes sont toutefois plus difficiles à interpréter, le 5 semble associer 100% d'hypertension à une haute fréquence de diabète en l'absence de migraines et de rhumatismes, le 6 est simplement l'ensemble des femmes touchées par un cancer du sein, et les cluster 2 et 3 restent en réalité assez proches de la moyenne.\n"
      ]
    },
    {
      "cell_type": "markdown",
      "metadata": {
        "id": "jWEYylqQb8-F"
      },
      "source": [
        "Le K-means ne semble pas très pertinent ici car l'algorithme essaye de répartir les 0 et les 1 et ne réparti pas vraiment les gens qui ont les mêmes maladies. \n",
        "On va donc essayer de faire un dendrogramme sur la population. "
      ]
    },
    {
      "cell_type": "markdown",
      "metadata": {
        "id": "RpQEwZwGO0ax"
      },
      "source": [
        "## Matrice des corrélations"
      ]
    },
    {
      "cell_type": "code",
      "metadata": {
        "id": "I_XD9Nx_OzH9",
        "colab": {
          "base_uri": "https://localhost:8080/",
          "height": 212
        },
        "outputId": "4b45256d-40dd-46f9-bbd5-8c32c1993ec7"
      },
      "source": [
        "X <- read.csv(\"base_E3N_clean.csv\", header = TRUE, sep =\",\", stringsAsFactors = TRUE)\n",
        "\n",
        "X$migraine <- X$migraine1 + X$migraine2\n",
        "X$asthme <- X$asthme2 + X$asthme3\n",
        "\n",
        "Y = X[,c(37, 42:53)]\n",
        "\n",
        "##Entre les maladies : \n",
        "mcor <-cor(Y)\n",
        "corrplot(mcor, type = \"upper\")\n",
        "\n",
        "##Entre les maladies et les facteurs : \n",
        "# On crée une seule colonne pour le tabac : 1 si la personne fume ou a déjà fumé, 0 sinon ; idem pour la menopause\n",
        "X$tabac <- X$tabac1 + X$tabac2\n",
        "X$menopause <- X$meno1 + X$meno3\n",
        "\n",
        "Z=X[,c(2:4,8,10,11,19,22,24:25,37, 42:55)]\n",
        "Z=scale(Z)\n",
        "mcorT <-cor(Z)\n",
        "corrplot(mcorT, type = \"upper\")"
      ],
      "execution_count": null,
      "outputs": [
        {
          "output_type": "stream",
          "text": [
            "Warning message in file(file, \"rt\"):\n",
            "“cannot open file 'base_E3N_clean.csv': No such file or directory”\n"
          ],
          "name": "stderr"
        },
        {
          "output_type": "error",
          "ename": "ERROR",
          "evalue": "ignored",
          "traceback": [
            "Error in file(file, \"rt\"): cannot open the connection\nTraceback:\n",
            "1. read.csv(\"base_E3N_clean.csv\", header = TRUE, sep = \",\", stringsAsFactors = TRUE)",
            "2. read.table(file = file, header = header, sep = sep, quote = quote, \n .     dec = dec, fill = fill, comment.char = comment.char, ...)",
            "3. file(file, \"rt\")"
          ]
        }
      ]
    },
    {
      "cell_type": "markdown",
      "metadata": {
        "id": "uSdeRrUkHEhY"
      },
      "source": [
        "### ACP "
      ]
    },
    {
      "cell_type": "code",
      "metadata": {
        "id": "RvujDhv4HDM1"
      },
      "source": [
        "base_E3N <- read.csv(\"E:/Documents/ETUDES/CentraleSupelec/1A/base_E3N_clean.csv\", header = TRUE, sep = \",\", stringsAsFactors = TRUE)\n",
        "\n",
        "X = base_E3N[, 3:NCOL(base_E3N)]\n",
        "X$migraine <- X$migraine1 + X$migraine2\n",
        "X$asthme <- X$asthme2 + X$asthme3\n",
        "X$tabac <- X$tabac1 + X$tabac2\n",
        "X$menopause <- X$meno1 + X$meno3\n",
        "\n",
        "str(X)\n",
        "summary(X)\n",
        "\n",
        "Y = X[,c(37, 42:53)]\n",
        "str(Y)\n",
        "\n",
        "res.pca <- PCA(Y, scale.unit = TRUE, ncp = 5, graph = FALSE)\n",
        "print(res.pca)\n",
        "get_eigenvalue(res.pca) #donne les valeurs propres\n",
        "fviz_pca_biplot(res.pca) #trace le biplot\n",
        "fviz_eig(res.pca, addlabels = TRUE, ylim = c(0, 50)) #trace le pourentage expliqué de variance par chaque valeur propre\n",
        "\n",
        "var <- get_pca_var(res.pca)\n",
        "\n",
        "# Qualite de representation cos2\n",
        "corrplot(var$cos2, is.corr=FALSE)\n",
        "head(var$cos2, 13) \n",
        "fviz_pca_var(res.pca, col.var = \"cos2\",\n",
        "             gradient.cols = c(\"#00AFBB\", \"#E7B800\", \"#FC4E07\"),\n",
        "             repel = TRUE # Évite le chevauchement de texte\n",
        ")\n",
        "\n",
        "#contribution des variables sur chaque dimension\n",
        "corrplot(var$contrib, is.corr=FALSE) \n",
        "fviz_pca_var(res.pca, col.var = \"contrib\",\n",
        "             gradient.cols = c(\"#00AFBB\", \"#E7B800\", \"#FC4E07\")\n",
        ")\n",
        "\n",
        "# Contributions des variables à PC1\n",
        "fviz_contrib(res.pca, choice = \"var\", axes = 1, top = 10)\n",
        "# Contributions des variables à PC2\n",
        "fviz_contrib(res.pca, choice = \"var\", axes = 2, top = 10)\n",
        "\n",
        "\n",
        "##colorer les variables en fonction des cluester du k-means\n",
        "\n",
        "# Créez une variable de regroupement en utilisant kmeans\n",
        "# Créez 3 groupes de variables (centers = 3)\n",
        "set.seed(123)\n",
        "res.km <- kmeans(var$coord, centers = 4, nstart = 25)\n",
        "grp <- as.factor(res.km$cluster)\n",
        "# Colorer les variables par groupes\n",
        "fviz_pca_var(res.pca, col.var = grp, \n",
        "             palette = c(\"#0073C2FF\", \"#EFC000FF\", \"#868686FF\",\"#0A0A2A\"),\n",
        "             legend.title = \"Cluster\")\n",
        "\n",
        "## Resultat par indivius\n",
        "\n",
        "ind <- get_pca_ind(res.pca)\n",
        "\n",
        "# Colorer les indiv qui ont une facteur ou une maladie\n",
        "Y$color <- X$hypertension\n",
        "Y$color[X$hypertension==1] <- 'oui'\n",
        "Y$color[X$hypertension==0] <- 'non'\n",
        "\n",
        "fviz_pca_ind(res.pca,\n",
        "             geom.ind = \"point\", # Montre les points seulement (mais pas le \"text\")\n",
        "             col.ind = Y$color, # colorer by groups\n",
        "             palette = c(\"#00AFBB\", \"#E7B800\"),\n",
        "             addEllipses = TRUE, # Ellipses de concentration\n",
        "             legend.title = \"Hypertension\"\n",
        ")\n",
        "\n",
        "fviz_pca_biplot (res.pca,\n",
        "                 col.ind = Y$color, palette = c(\"#00AFBB\", \"#E7B800\"),\n",
        "                 addEllipses = TRUE, label = \"var\",\n",
        "                 col.var = \"black\", repel = TRUE,\n",
        "                 legend.title = \"Hypertension\")\n",
        "\n",
        "# Colorer les indiv d'un cluster (cluster fait sur les coordonnées des points par k-means)\n",
        "groupes.kmeans <- kmeans(ind$coord,centers=5,nstart=100)\n",
        "print(groupes.kmeans)\n",
        "grp <- as.factor(groupes.kmeans$cluster)\n",
        "fviz_pca_biplot (res.pca,\n",
        "                 col.ind = grp, palette = c(\"#00AFBB\", \"#E7B800\",\"#EA0034\",\"#B610BF\",\"#9AF000\"),\n",
        "                 addEllipses = TRUE, label = \"var\",\n",
        "                 col.var = \"black\", repel = TRUE,\n",
        "                 legend.title = \"Cluster\")\n"
      ],
      "execution_count": null,
      "outputs": []
    },
    {
      "cell_type": "markdown",
      "metadata": {
        "id": "3du-XUkNbuKf"
      },
      "source": [
        "Cette matrice de covariance semble assez cohérente (on voit imc et diabète corrélé, rhumato et âge aussi par exemple). Cependant on pourrait s'attendre à voir cancer de la peau et soleil corrélé mais ce n'est ps le cas. "
      ]
    }
  ]
}